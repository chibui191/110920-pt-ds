{
 "cells": [
  {
   "cell_type": "markdown",
   "metadata": {},
   "source": [
    "Today we will build a class that allows us to better organize our SQL queries and visualization code. \n",
    "\n",
    "To begin let's review some SQL. "
   ]
  },
  {
   "cell_type": "code",
   "execution_count": 1,
   "metadata": {},
   "outputs": [],
   "source": [
    "import sqlite3\n",
    "import pandas as pd\n",
    "import os\n",
    "import matplotlib.pyplot as plt\n",
    "\n",
    "# For testing code\n",
    "from test_scripts.test_class import Test\n",
    "test = Test()"
   ]
  },
  {
   "cell_type": "code",
   "execution_count": 13,
   "metadata": {},
   "outputs": [],
   "source": [
    "path = os.path.join('data', 'chinook.db')\n",
    "conn = sqlite3.connect(path)\n",
    "cursor = conn.cursor()"
   ]
  },
  {
   "cell_type": "markdown",
   "metadata": {},
   "source": [
    "![schema](images/schema.png)"
   ]
  },
  {
   "cell_type": "markdown",
   "metadata": {},
   "source": [
    "### TASK 1"
   ]
  },
  {
   "cell_type": "markdown",
   "metadata": {},
   "source": [
    "In the cell below, write code that generates a list containing the names of all tables in the chinook database. "
   ]
  },
  {
   "cell_type": "code",
   "execution_count": 14,
   "metadata": {},
   "outputs": [],
   "source": [
    "# Your code here\n",
    "q = \"\"\"SELECT name from sqlite_master\n",
    "       WHERE type = 'table'\n",
    "       AND name NOT LIKE 'sqlite_%'\n",
    "    \"\"\"\n",
    "\n",
    "tables = [x[0] for x in cursor.execute(q).fetchall()]"
   ]
  },
  {
   "cell_type": "code",
   "execution_count": 15,
   "metadata": {
    "ExecuteTime": {
     "end_time": "2021-03-16T14:09:36.782673Z",
     "start_time": "2021-03-16T14:09:36.777594Z"
    }
   },
   "outputs": [
    {
     "data": {
      "text/markdown": [
       "✅ **Hey, you did it.  Good job.**"
      ],
      "text/plain": [
       "<IPython.core.display.Markdown object>"
      ]
     },
     "metadata": {},
     "output_type": "display_data"
    }
   ],
   "source": [
    "test.run_test(tables, 'tables')"
   ]
  },
  {
   "cell_type": "markdown",
   "metadata": {},
   "source": [
    "### TASK 2"
   ]
  },
  {
   "cell_type": "markdown",
   "metadata": {},
   "source": [
    "In the cell below, write code that will generate a dataframe of yearly revenue. The dataframe should be sorted by year. "
   ]
  },
  {
   "cell_type": "code",
   "execution_count": 16,
   "metadata": {},
   "outputs": [
    {
     "data": {
      "text/plain": [
       "['albums',\n",
       " 'artists',\n",
       " 'customers',\n",
       " 'employees',\n",
       " 'genres',\n",
       " 'invoices',\n",
       " 'invoice_items',\n",
       " 'media_types',\n",
       " 'playlists',\n",
       " 'playlist_track',\n",
       " 'tracks']"
      ]
     },
     "execution_count": 16,
     "metadata": {},
     "output_type": "execute_result"
    }
   ],
   "source": [
    "tables"
   ]
  },
  {
   "cell_type": "code",
   "execution_count": 17,
   "metadata": {},
   "outputs": [
    {
     "data": {
      "text/html": [
       "<div>\n",
       "<style scoped>\n",
       "    .dataframe tbody tr th:only-of-type {\n",
       "        vertical-align: middle;\n",
       "    }\n",
       "\n",
       "    .dataframe tbody tr th {\n",
       "        vertical-align: top;\n",
       "    }\n",
       "\n",
       "    .dataframe thead th {\n",
       "        text-align: right;\n",
       "    }\n",
       "</style>\n",
       "<table border=\"1\" class=\"dataframe\">\n",
       "  <thead>\n",
       "    <tr style=\"text-align: right;\">\n",
       "      <th></th>\n",
       "      <th>year</th>\n",
       "      <th>amount</th>\n",
       "    </tr>\n",
       "  </thead>\n",
       "  <tbody>\n",
       "    <tr>\n",
       "      <th>0</th>\n",
       "      <td>2009</td>\n",
       "      <td>449.46</td>\n",
       "    </tr>\n",
       "    <tr>\n",
       "      <th>1</th>\n",
       "      <td>2010</td>\n",
       "      <td>481.45</td>\n",
       "    </tr>\n",
       "    <tr>\n",
       "      <th>2</th>\n",
       "      <td>2011</td>\n",
       "      <td>469.58</td>\n",
       "    </tr>\n",
       "    <tr>\n",
       "      <th>3</th>\n",
       "      <td>2012</td>\n",
       "      <td>477.53</td>\n",
       "    </tr>\n",
       "    <tr>\n",
       "      <th>4</th>\n",
       "      <td>2013</td>\n",
       "      <td>450.58</td>\n",
       "    </tr>\n",
       "  </tbody>\n",
       "</table>\n",
       "</div>"
      ],
      "text/plain": [
       "   year  amount\n",
       "0  2009  449.46\n",
       "1  2010  481.45\n",
       "2  2011  469.58\n",
       "3  2012  477.53\n",
       "4  2013  450.58"
      ]
     },
     "execution_count": 17,
     "metadata": {},
     "output_type": "execute_result"
    }
   ],
   "source": [
    "# Your code here\n",
    "\n",
    "q = \"\"\"SELECT strftime('%Y', invoicedate) as year,\n",
    "       SUM(unitprice * quantity) as amount\n",
    "       FROM invoices \n",
    "       JOIN invoice_items\n",
    "       USING(invoiceid)\n",
    "       GROUP BY year\n",
    "       ORDER BY year;\n",
    "    \"\"\"\n",
    "\n",
    "# cursor.execute(q).fetchall()\n",
    "pd.read_sql(q, conn)"
   ]
  },
  {
   "cell_type": "code",
   "execution_count": null,
   "metadata": {
    "ExecuteTime": {
     "end_time": "2021-03-16T19:58:35.162373Z",
     "start_time": "2021-03-16T19:58:35.152655Z"
    }
   },
   "outputs": [],
   "source": [
    "test.run_test(pd.read_sql(q, conn), 'yearly_revenue')"
   ]
  },
  {
   "cell_type": "markdown",
   "metadata": {},
   "source": [
    "### TASK 3"
   ]
  },
  {
   "cell_type": "markdown",
   "metadata": {},
   "source": [
    "In the cell below, write code to generate a dataframe that counts the numbers of artists that are found within each genre. Sort the dataframe in ascending order."
   ]
  },
  {
   "cell_type": "code",
   "execution_count": null,
   "metadata": {},
   "outputs": [],
   "source": [
    "# Your code here"
   ]
  },
  {
   "cell_type": "code",
   "execution_count": null,
   "metadata": {
    "ExecuteTime": {
     "end_time": "2021-03-16T20:05:13.987819Z",
     "start_time": "2021-03-16T20:05:13.977910Z"
    }
   },
   "outputs": [],
   "source": [
    "test.run_test(pd.read_sql(q, conn).sort_values('count'), 'artists_per_genre')"
   ]
  },
  {
   "cell_type": "markdown",
   "metadata": {},
   "source": [
    "# OOP"
   ]
  },
  {
   "cell_type": "markdown",
   "metadata": {},
   "source": [
    "Let's begin by building a quick `Example` class, and break down some of the elements."
   ]
  },
  {
   "cell_type": "code",
   "execution_count": null,
   "metadata": {
    "ExecuteTime": {
     "end_time": "2021-03-16T15:08:09.284318Z",
     "start_time": "2021-03-16T15:08:09.281678Z"
    }
   },
   "outputs": [],
   "source": [
    "class Example:\n",
    "    attribute = \"I'm an attribute!\"\n",
    "    \n",
    "    def method(self):\n",
    "        return \"I'm a method!\""
   ]
  },
  {
   "cell_type": "code",
   "execution_count": null,
   "metadata": {
    "ExecuteTime": {
     "end_time": "2021-03-16T15:07:42.140136Z",
     "start_time": "2021-03-16T15:07:42.136745Z"
    }
   },
   "outputs": [],
   "source": [
    "Example.attribute"
   ]
  },
  {
   "cell_type": "code",
   "execution_count": null,
   "metadata": {
    "ExecuteTime": {
     "end_time": "2021-03-16T15:07:49.132295Z",
     "start_time": "2021-03-16T15:07:49.125620Z"
    }
   },
   "outputs": [],
   "source": [
    "Example.method()"
   ]
  },
  {
   "cell_type": "code",
   "execution_count": null,
   "metadata": {
    "ExecuteTime": {
     "end_time": "2021-03-16T15:08:01.923305Z",
     "start_time": "2021-03-16T15:08:01.919827Z"
    }
   },
   "outputs": [],
   "source": [
    "Example.method(Example)"
   ]
  },
  {
   "cell_type": "markdown",
   "metadata": {},
   "source": [
    "### Adding an `__init__` method\n",
    "\n",
    "> [A good thread on the init method](https://stackoverflow.com/questions/625083/what-init-and-self-do-in-python)\n",
    "\n",
    "The init method activates when we create an *instance* of the class. "
   ]
  },
  {
   "cell_type": "code",
   "execution_count": null,
   "metadata": {
    "ExecuteTime": {
     "end_time": "2021-03-16T16:42:21.275419Z",
     "start_time": "2021-03-16T16:42:21.272369Z"
    }
   },
   "outputs": [],
   "source": [
    "class Example:\n",
    "    attribute = \"I'm an attribute!\"\n",
    "    \n",
    "    # Adding an init method\n",
    "    def __init__(self): \n",
    "        self.instance_attribute = \"I'm an instance attribute!\"\n",
    "        # You'll notice that self is used to create this attribute. \n",
    "        # Whenever we create an instance attribute, we\n",
    "        # have to use self.\n",
    "    \n",
    "    def method(self):\n",
    "        return \"I'm a method!\""
   ]
  },
  {
   "cell_type": "markdown",
   "metadata": {},
   "source": [
    "**Creating an instance**"
   ]
  },
  {
   "cell_type": "code",
   "execution_count": null,
   "metadata": {
    "ExecuteTime": {
     "end_time": "2021-03-16T16:42:33.737295Z",
     "start_time": "2021-03-16T16:42:33.735000Z"
    }
   },
   "outputs": [],
   "source": [
    "instance = Example()"
   ]
  },
  {
   "cell_type": "code",
   "execution_count": null,
   "metadata": {
    "ExecuteTime": {
     "end_time": "2021-03-16T16:42:39.489343Z",
     "start_time": "2021-03-16T16:42:39.485976Z"
    }
   },
   "outputs": [],
   "source": [
    "instance.instance_attribute"
   ]
  },
  {
   "cell_type": "markdown",
   "metadata": {},
   "source": [
    "**The init method is especially helpful when we need to pass object to our class**"
   ]
  },
  {
   "cell_type": "code",
   "execution_count": null,
   "metadata": {
    "ExecuteTime": {
     "end_time": "2021-03-16T16:48:02.678184Z",
     "start_time": "2021-03-16T16:48:02.674878Z"
    }
   },
   "outputs": [],
   "source": [
    "class Example:\n",
    "    attribute = \"I'm an attribute!\"\n",
    "    \n",
    "    # We have updated the __init__ method\n",
    "    # so it also receives a number\n",
    "    def __init__(self, number):\n",
    "        self.instance_attribute = \"I'm an instance attribute!\"\n",
    "        # We then create an attribute that\n",
    "        # adds three to the received number\n",
    "        self.add_three = number + 3\n",
    "    \n",
    "    def method(self):\n",
    "        return \"I'm a method!\""
   ]
  },
  {
   "cell_type": "markdown",
   "metadata": {},
   "source": [
    "**Now if try to create an instance of the class like we did before...**"
   ]
  },
  {
   "cell_type": "code",
   "execution_count": null,
   "metadata": {
    "ExecuteTime": {
     "end_time": "2021-03-16T16:48:29.254593Z",
     "start_time": "2021-03-16T16:48:29.247912Z"
    }
   },
   "outputs": [],
   "source": [
    "instance = Example()"
   ]
  },
  {
   "cell_type": "markdown",
   "metadata": {},
   "source": [
    "**...we receive an error message because the init method did not receive a required argument.**\n",
    "\n",
    "To provide arguments to the init method, we pass the argument into the parentheses used to call the class. "
   ]
  },
  {
   "cell_type": "code",
   "execution_count": null,
   "metadata": {
    "ExecuteTime": {
     "end_time": "2021-03-16T16:49:42.708480Z",
     "start_time": "2021-03-16T16:49:42.705836Z"
    }
   },
   "outputs": [],
   "source": [
    "instance = Example(3)"
   ]
  },
  {
   "cell_type": "code",
   "execution_count": null,
   "metadata": {
    "ExecuteTime": {
     "end_time": "2021-03-16T16:49:49.623527Z",
     "start_time": "2021-03-16T16:49:49.619833Z"
    }
   },
   "outputs": [],
   "source": [
    "instance.add_three"
   ]
  },
  {
   "cell_type": "markdown",
   "metadata": {},
   "source": [
    "**Using an attribute inside a method**\n",
    "\n",
    "It is common when writing code to have global variables that must be passed into a function, or used inside a function. \n",
    "\n",
    "This can be a bit annoying since the main reason we create functions is so we do not have to keep typing the same things over and over again. \n",
    "\n",
    "Classes can be used to solve this problem!"
   ]
  },
  {
   "cell_type": "code",
   "execution_count": null,
   "metadata": {
    "ExecuteTime": {
     "end_time": "2021-03-16T17:16:19.219790Z",
     "start_time": "2021-03-16T17:16:19.216099Z"
    }
   },
   "outputs": [],
   "source": [
    "class Greeting:\n",
    "    \n",
    "    def __init__(self, greeting=None):\n",
    "        if not greeting:\n",
    "            greeting = \"It's nice to meet you!\"\n",
    "        self.greeting = greeting\n",
    "        \n",
    "    def message(self, name):\n",
    "        return f\"Hi, {name}!\" + ' ' + self.greeting"
   ]
  },
  {
   "cell_type": "code",
   "execution_count": null,
   "metadata": {
    "ExecuteTime": {
     "end_time": "2021-03-16T17:16:58.062146Z",
     "start_time": "2021-03-16T17:16:58.058284Z"
    }
   },
   "outputs": [],
   "source": [
    "greeting, name = (\"Can you please do the dishes?\", 'Joel')\n",
    "\n",
    "whats_up = Greeting(greeting)\n",
    "\n",
    "whats_up.message(name)"
   ]
  },
  {
   "cell_type": "markdown",
   "metadata": {},
   "source": [
    "# Code Assignment\n",
    "\n",
    "Let's take the sql queries we wrote above and create a `Queries` class. \n",
    "\n",
    "This class should have attributes for the connection to the database, and individual methods for each query. \n",
    "\n",
    "The output for each query method should look exactly like the outputs for our sql queries aboves."
   ]
  },
  {
   "cell_type": "code",
   "execution_count": 2,
   "metadata": {
    "ExecuteTime": {
     "end_time": "2021-03-16T17:20:00.705481Z",
     "start_time": "2021-03-16T17:20:00.701981Z"
    }
   },
   "outputs": [],
   "source": [
    "class Queries:\n",
    "    def __init__(self, database_path):\n",
    "        self.conn = sqlite3.connect(database_path)\n",
    "        self.cursor = self.conn.cursor()\n",
    "    \n",
    "#=================== QUERIES ====================\n",
    " \n",
    "    def table_names(self):\n",
    "        q = \"\"\"SELECT name from sqlite_master\n",
    "               WHERE type = 'table'\n",
    "               AND name NOT LIKE 'sqlite_%'\n",
    "            \"\"\"\n",
    "        tables = [x[0] for x in self.cursor.execute(q).fetchall()]\n",
    "        return tables\n",
    "        \n",
    "    \n",
    "    def artists_per_genre(self):\n",
    "        q = \"\"\"SELECT COUNT(DISTINCT al.artistid) AS 'count',\n",
    "               g.name AS 'name'\n",
    "               FROM albums al\n",
    "               JOIN tracks\n",
    "               USING(albumid)\n",
    "               JOIN genres g\n",
    "               USING(genreid)\n",
    "               GROUP BY g.name;\n",
    "            \"\"\"\n",
    "        return pd.read_sql(q, self.conn)\n",
    "    \n",
    "        \n",
    "    def yearly_revenue(self):\n",
    "        q = \"\"\"SELECT strftime('%Y', invoicedate) as year,\n",
    "               SUM(unitprice * quantity) as amount\n",
    "               FROM invoices \n",
    "               JOIN invoice_items\n",
    "               USING(invoiceid)\n",
    "               GROUP BY year\n",
    "               ORDER BY year;\n",
    "            \"\"\"\n",
    "        return pd.read_sql(q, self.conn)"
   ]
  },
  {
   "cell_type": "markdown",
   "metadata": {},
   "source": [
    "**Let's test our work**"
   ]
  },
  {
   "cell_type": "code",
   "execution_count": 4,
   "metadata": {},
   "outputs": [],
   "source": [
    "path = os.path.join('data', 'chinook.db')"
   ]
  },
  {
   "cell_type": "code",
   "execution_count": 5,
   "metadata": {
    "ExecuteTime": {
     "end_time": "2021-03-16T18:38:29.729925Z",
     "start_time": "2021-03-16T18:38:29.712988Z"
    }
   },
   "outputs": [
    {
     "data": {
      "text/markdown": [
       "✅ **Hey, you did it.  Good job.**"
      ],
      "text/plain": [
       "<IPython.core.display.Markdown object>"
      ]
     },
     "metadata": {},
     "output_type": "display_data"
    },
    {
     "data": {
      "text/markdown": [
       "✅ **Hey, you did it.  Good job.**"
      ],
      "text/plain": [
       "<IPython.core.display.Markdown object>"
      ]
     },
     "metadata": {},
     "output_type": "display_data"
    },
    {
     "data": {
      "text/markdown": [
       "✅ **Hey, you did it.  Good job.**"
      ],
      "text/plain": [
       "<IPython.core.display.Markdown object>"
      ]
     },
     "metadata": {},
     "output_type": "display_data"
    }
   ],
   "source": [
    "queries = Queries(path)\n",
    "test.run_test(queries.table_names(), 'class_table_names')\n",
    "test.run_test(queries.artists_per_genre(), 'class_artists')\n",
    "test.run_test(queries.yearly_revenue(), 'class_revenue')"
   ]
  },
  {
   "cell_type": "markdown",
   "metadata": {},
   "source": [
    "### Inheritance \n",
    "\n",
    "Classes can inherit code from other classes! This can be a bit confusing at first, but this is where the magic of OOP programming really kicks in. "
   ]
  },
  {
   "cell_type": "code",
   "execution_count": 6,
   "metadata": {
    "ExecuteTime": {
     "end_time": "2021-03-16T18:42:27.911798Z",
     "start_time": "2021-03-16T18:42:27.908041Z"
    }
   },
   "outputs": [],
   "source": [
    "class Arrays:\n",
    "    def __init__(self):\n",
    "        self.x = [1,2,3]\n",
    "        self.y = [3,2,1]\n",
    "       \n",
    "# This is where the inheritance takes place\n",
    "class Visualize(Arrays):\n",
    "    def line(self):\n",
    "        plt.plot(self.x, self.y)"
   ]
  },
  {
   "cell_type": "code",
   "execution_count": 7,
   "metadata": {
    "ExecuteTime": {
     "end_time": "2021-03-16T18:43:38.922376Z",
     "start_time": "2021-03-16T18:43:38.770945Z"
    },
    "scrolled": true
   },
   "outputs": [
    {
     "data": {
      "image/png": "[encoded data removed]",
      "text/plain": [
       "<Figure size 432x288 with 1 Axes>"
      ]
     },
     "metadata": {
      "needs_background": "light"
     },
     "output_type": "display_data"
    }
   ],
   "source": [
    "viz = Visualize()\n",
    "viz.line()"
   ]
  },
  {
   "cell_type": "code",
   "execution_count": 12,
   "metadata": {},
   "outputs": [
    {
     "data": {
      "text/plain": [
       "[1, 2, 3]"
      ]
     },
     "execution_count": 12,
     "metadata": {},
     "output_type": "execute_result"
    }
   ],
   "source": [
    "viz.x"
   ]
  },
  {
   "cell_type": "markdown",
   "metadata": {},
   "source": [
    "We can also make classes that serve as a subclass"
   ]
  },
  {
   "cell_type": "code",
   "execution_count": 8,
   "metadata": {
    "ExecuteTime": {
     "end_time": "2021-03-16T18:53:53.361419Z",
     "start_time": "2021-03-16T18:53:53.356498Z"
    }
   },
   "outputs": [],
   "source": [
    "class User:\n",
    "    def __init__(self, username, secret_key):\n",
    "        User.key = secret_key\n",
    "        User.name = username\n",
    "        self.sub = Authorize()\n",
    "    \n",
    "class Authorize:\n",
    "    def __init__(self):\n",
    "        self.key = User.key\n",
    "        self.user = User.name\n",
    "        \n",
    "    def check_password(self):\n",
    "        if self.user == 'Joel' and self.key == 'secret_key':\n",
    "            print('Password correct!')\n",
    "        else:\n",
    "            print('Incorrect Password')"
   ]
  },
  {
   "cell_type": "code",
   "execution_count": 9,
   "metadata": {
    "ExecuteTime": {
     "end_time": "2021-03-16T18:54:09.772919Z",
     "start_time": "2021-03-16T18:54:09.769632Z"
    }
   },
   "outputs": [
    {
     "name": "stdout",
     "output_type": "stream",
     "text": [
      "Password correct!\n"
     ]
    }
   ],
   "source": [
    "user = User('Joel', 'secret_key')\n",
    "user.sub.check_password()"
   ]
  },
  {
   "cell_type": "markdown",
   "metadata": {},
   "source": [
    "### Calling the parent class init"
   ]
  },
  {
   "cell_type": "code",
   "execution_count": 10,
   "metadata": {},
   "outputs": [],
   "source": [
    "class One:\n",
    "    def __init__(self, arg):\n",
    "        self.arg = arg\n",
    "        \n",
    "class Two(One):\n",
    "    def __init__(self, other_arg):\n",
    "        self.other_arg = other_arg"
   ]
  },
  {
   "cell_type": "code",
   "execution_count": 11,
   "metadata": {
    "ExecuteTime": {
     "end_time": "2021-03-16T19:26:15.330386Z",
     "start_time": "2021-03-16T19:26:15.322643Z"
    },
    "scrolled": true
   },
   "outputs": [
    {
     "name": "stdout",
     "output_type": "stream",
     "text": [
      "other_arg\n"
     ]
    },
    {
     "ename": "AttributeError",
     "evalue": "'Two' object has no attribute 'arg'",
     "output_type": "error",
     "traceback": [
      "\u001b[0;31m---------------------------------------------------------------------------\u001b[0m",
      "\u001b[0;31mAttributeError\u001b[0m                            Traceback (most recent call last)",
      "\u001b[0;32m<ipython-input-11-e524243635ba>\u001b[0m in \u001b[0;36m<module>\u001b[0;34m\u001b[0m\n\u001b[1;32m      2\u001b[0m \u001b[0;34m\u001b[0m\u001b[0m\n\u001b[1;32m      3\u001b[0m \u001b[0mprint\u001b[0m\u001b[0;34m(\u001b[0m\u001b[0mtwo\u001b[0m\u001b[0;34m.\u001b[0m\u001b[0mother_arg\u001b[0m\u001b[0;34m)\u001b[0m\u001b[0;34m\u001b[0m\u001b[0;34m\u001b[0m\u001b[0m\n\u001b[0;32m----> 4\u001b[0;31m \u001b[0mprint\u001b[0m\u001b[0;34m(\u001b[0m\u001b[0mtwo\u001b[0m\u001b[0;34m.\u001b[0m\u001b[0marg\u001b[0m\u001b[0;34m)\u001b[0m\u001b[0;34m\u001b[0m\u001b[0;34m\u001b[0m\u001b[0m\n\u001b[0m",
      "\u001b[0;31mAttributeError\u001b[0m: 'Two' object has no attribute 'arg'"
     ]
    }
   ],
   "source": [
    "two = Two('other_arg')\n",
    "\n",
    "print(two.other_arg)\n",
    "print(two.arg)"
   ]
  },
  {
   "cell_type": "code",
   "execution_count": null,
   "metadata": {
    "ExecuteTime": {
     "end_time": "2021-03-16T19:25:56.034678Z",
     "start_time": "2021-03-16T19:25:56.030905Z"
    }
   },
   "outputs": [],
   "source": [
    "class One:\n",
    "    def __init__(self, arg):\n",
    "        self.arg = arg\n",
    "        \n",
    "class Two(One):\n",
    "    def __init__(self, arg, other_arg):\n",
    "        One.__init__(self, arg)\n",
    "        self.other_arg = other_arg"
   ]
  },
  {
   "cell_type": "code",
   "execution_count": null,
   "metadata": {
    "ExecuteTime": {
     "end_time": "2021-03-16T19:25:56.656398Z",
     "start_time": "2021-03-16T19:25:56.652875Z"
    }
   },
   "outputs": [],
   "source": [
    "two = Two('arg', 'other_arg')\n",
    "\n",
    "print(two.other_arg)\n",
    "print(two.arg)"
   ]
  },
  {
   "cell_type": "markdown",
   "metadata": {},
   "source": [
    "### Code Assignment"
   ]
  },
  {
   "cell_type": "markdown",
   "metadata": {},
   "source": [
    "Let's create three classes\n",
    "\n",
    "1. Chinook\n",
    "    - This class should create attributes for the connection to the chinook database\n",
    "2. Queries\n",
    "    - This class should look a lot like out Queries class above, but it should receive the connection objects from the Chinook class. \n",
    "3. Visualize\n",
    "    - This class should inherit the sql query methods from the queries class and then visualize the artists per genre as a bar char and the yearly revenue as a line plot."
   ]
  },
  {
   "cell_type": "code",
   "execution_count": 37,
   "metadata": {
    "scrolled": true
   },
   "outputs": [
    {
     "data": {
      "text/plain": [
       "'data/chinook.db'"
      ]
     },
     "execution_count": 37,
     "metadata": {},
     "output_type": "execute_result"
    }
   ],
   "source": [
    "path"
   ]
  },
  {
   "cell_type": "code",
   "execution_count": 111,
   "metadata": {},
   "outputs": [],
   "source": [
    "class Chinook:\n",
    "    def __init__(self, db_path):\n",
    "        self.conn = sqlite3.connect(db_path)\n",
    "        self.cursor = self.conn.cursor()  "
   ]
  },
  {
   "cell_type": "code",
   "execution_count": 112,
   "metadata": {},
   "outputs": [],
   "source": [
    "class Queries(Chinook):    \n",
    "    def table_names(self):\n",
    "        q = \"\"\"SELECT name from sqlite_master\n",
    "               WHERE type = 'table'\n",
    "               AND name NOT LIKE 'sqlite_%'\n",
    "            \"\"\"\n",
    "        return [x[0] for x in self.cursor.execute(q).fetchall()]        \n",
    "    \n",
    "    def artists_per_genre_table(self):\n",
    "        q = \"\"\"SELECT COUNT(DISTINCT al.artistid) AS 'count',\n",
    "               g.name AS 'name'\n",
    "               FROM albums al\n",
    "               JOIN tracks\n",
    "               USING(albumid)\n",
    "               JOIN genres g\n",
    "               USING(genreid)\n",
    "               GROUP BY g.name;\n",
    "            \"\"\"\n",
    "        return pd.read_sql(q, self.conn)\n",
    "        \n",
    "    def yearly_revenue_table(self):\n",
    "        q = \"\"\"SELECT strftime('%Y', invoicedate) as year,\n",
    "               SUM(unitprice * quantity) as amount\n",
    "               FROM invoices \n",
    "               JOIN invoice_items\n",
    "               USING(invoiceid)\n",
    "               GROUP BY year\n",
    "               ORDER BY year;\n",
    "            \"\"\"\n",
    "        return pd.read_sql(q, self.conn)"
   ]
  },
  {
   "cell_type": "code",
   "execution_count": 143,
   "metadata": {},
   "outputs": [],
   "source": [
    "class Visualization(Queries):\n",
    "    def artists_per_genre(self):\n",
    "#         table = self.artists_per_genre_table().name\n",
    "        x = self.artists_per_genre_table().name\n",
    "        y = self.artists_per_genre_table()['count']\n",
    "        fig, ax = plt.subplots(figsize=(15,7))\n",
    "        plt.barh(x, y);\n",
    "    \n",
    "    def yearly_revenue(self):\n",
    "        table = self.yearly_revenue_table()\n",
    "        x = table.year\n",
    "        y = table.amount\n",
    "        plt.plot(x, y);"
   ]
  },
  {
   "cell_type": "code",
   "execution_count": 144,
   "metadata": {},
   "outputs": [],
   "source": [
    "visualize = Visualization(path)"
   ]
  },
  {
   "cell_type": "code",
   "execution_count": 145,
   "metadata": {
    "ExecuteTime": {
     "end_time": "2021-03-16T19:07:15.992026Z",
     "start_time": "2021-03-16T19:07:15.759067Z"
    },
    "scrolled": true
   },
   "outputs": [
    {
     "data": {
      "image/png": "[encoded data removed]",
      "text/plain": [
       "<Figure size 432x288 with 1 Axes>"
      ]
     },
     "metadata": {
      "needs_background": "light"
     },
     "output_type": "display_data"
    }
   ],
   "source": [
    "visualize.yearly_revenue()"
   ]
  },
  {
   "cell_type": "code",
   "execution_count": 146,
   "metadata": {},
   "outputs": [
    {
     "data": {
      "image/png": "[encoded data removed]",
      "text/plain": [
       "<Figure size 1080x504 with 1 Axes>"
      ]
     },
     "metadata": {
      "needs_background": "light"
     },
     "output_type": "display_data"
    }
   ],
   "source": [
    "visualize.artists_per_genre()"
   ]
  },
  {
   "cell_type": "markdown",
   "metadata": {},
   "source": [
    "## Magic Methods\n",
    "\n",
    "[Magic Methods](https://www.tutorialsteacher.com/python/magic-methods-in-python) begin and end with double underscores. `__init__` is an example of magic method. Let's take a look as a couple more. "
   ]
  },
  {
   "cell_type": "code",
   "execution_count": null,
   "metadata": {},
   "outputs": [],
   "source": [
    "class Magic:\n",
    "    def __init__(self, database_path):\n",
    "        self.conn = sqlite3.connect(database_path)\n",
    "        self.cursor = self.conn.cursor()\n",
    "        self.table_names = self.table_names()\n",
    "        self.tables = {}\n",
    "     \n",
    "        for table in self.table_names:\n",
    "            entire_table = pd.read_sql('''SELECT * FROM {}'''.format(table), self.conn)\n",
    "            self.tables[table] = entire_table\n",
    "\n",
    "            \n",
    "#============ Magic Methods ============\n",
    "\n",
    "    def __getitem__(self, key):\n",
    "        return self.tables[key]\n",
    "    \n",
    "    def __repr__(self):\n",
    "        return 'This class makes a connection to the Chinook Database!'\n",
    "    \n",
    "    def __mul__(self, other):\n",
    "        return 'Instead of multiplication, we received a string!'\n",
    "    \n",
    "#============ Query to get table names ============\n",
    "    \n",
    "    def table_names(self):\n",
    "        q = '''SELECT name FROM sqlite_master\n",
    "                WHERE\n",
    "                type = 'table'\n",
    "                AND\n",
    "                name NOT LIKE 'sqlite_%';'''\n",
    "        tables = self.cursor.execute(q).fetchall()\n",
    "        return  [x[0] for x in tables]\n"
   ]
  },
  {
   "cell_type": "code",
   "execution_count": null,
   "metadata": {
    "ExecuteTime": {
     "end_time": "2021-03-16T19:18:00.330706Z",
     "start_time": "2021-03-16T19:18:00.277677Z"
    }
   },
   "outputs": [],
   "source": [
    "magic = Magic(path)"
   ]
  },
  {
   "cell_type": "code",
   "execution_count": null,
   "metadata": {
    "ExecuteTime": {
     "end_time": "2021-03-16T19:18:15.670882Z",
     "start_time": "2021-03-16T19:18:15.661241Z"
    }
   },
   "outputs": [],
   "source": [
    "magic['artists']"
   ]
  },
  {
   "cell_type": "code",
   "execution_count": null,
   "metadata": {
    "ExecuteTime": {
     "end_time": "2021-03-16T19:18:19.845812Z",
     "start_time": "2021-03-16T19:18:19.842646Z"
    }
   },
   "outputs": [],
   "source": [
    "magic"
   ]
  },
  {
   "cell_type": "code",
   "execution_count": null,
   "metadata": {
    "ExecuteTime": {
     "end_time": "2021-03-16T19:18:32.584999Z",
     "start_time": "2021-03-16T19:18:32.581341Z"
    }
   },
   "outputs": [],
   "source": [
    "magic * 3"
   ]
  }
 ],
 "metadata": {
  "kernelspec": {
   "display_name": "Python 3",
   "language": "python",
   "name": "python3"
  },
  "language_info": {
   "codemirror_mode": {
    "name": "ipython",
    "version": 3
   },
   "file_extension": ".py",
   "mimetype": "text/x-python",
   "name": "python",
   "nbconvert_exporter": "python",
   "pygments_lexer": "ipython3",
   "version": "3.8.5"
  },
  "toc": {
   "base_numbering": 1,
   "nav_menu": {},
   "number_sections": false,
   "sideBar": true,
   "skip_h1_title": false,
   "title_cell": "Table of Contents",
   "title_sidebar": "Contents",
   "toc_cell": false,
   "toc_position": {},
   "toc_section_display": true,
   "toc_window_display": false
  }
 },
 "nbformat": 4,
 "nbformat_minor": 4
}
