{
 "cells": [
  {
   "cell_type": "markdown",
   "metadata": {},
   "source": [
    "Today we will build a class that allows us to better organize our SQL queries and visualization code. \n",
    "\n",
    "To begin let's review some SQL. "
   ]
  },
  {
   "cell_type": "code",
   "execution_count": 80,
   "metadata": {
    "ExecuteTime": {
     "end_time": "2021-03-16T20:06:37.965804Z",
     "start_time": "2021-03-16T20:06:37.962516Z"
    }
   },
   "outputs": [],
   "source": [
    "import sqlite3\n",
    "import pandas as pd\n",
    "import os\n",
    "import matplotlib.pyplot as plt\n",
    "\n",
    "# For testing code\n",
    "from test_scripts.test_class import Test\n",
    "test = Test()"
   ]
  },
  {
   "cell_type": "code",
   "execution_count": 81,
   "metadata": {
    "ExecuteTime": {
     "end_time": "2021-03-16T20:06:38.233495Z",
     "start_time": "2021-03-16T20:06:38.230289Z"
    }
   },
   "outputs": [],
   "source": [
    "path = os.path.join('data', 'chinook.db')\n",
    "conn = sqlite3.connect(path)\n",
    "cursor = conn.cursor()"
   ]
  },
  {
   "cell_type": "markdown",
   "metadata": {},
   "source": [
    "![schema](images/schema.png)"
   ]
  },
  {
   "cell_type": "markdown",
   "metadata": {},
   "source": [
    "### TASK 1"
   ]
  },
  {
   "cell_type": "markdown",
   "metadata": {},
   "source": [
    "In the cell below, write code that generates a list containing the names of all tables in the chinook database. "
   ]
  },
  {
   "cell_type": "code",
   "execution_count": 82,
   "metadata": {
    "ExecuteTime": {
     "end_time": "2021-03-16T20:06:39.272380Z",
     "start_time": "2021-03-16T20:06:39.267712Z"
    }
   },
   "outputs": [
    {
     "data": {
      "text/plain": [
       "['albums',\n",
       " 'artists',\n",
       " 'customers',\n",
       " 'employees',\n",
       " 'genres',\n",
       " 'invoices',\n",
       " 'invoice_items',\n",
       " 'media_types',\n",
       " 'playlists',\n",
       " 'playlist_track',\n",
       " 'tracks']"
      ]
     },
     "execution_count": 82,
     "metadata": {},
     "output_type": "execute_result"
    }
   ],
   "source": [
    "tables = cursor.execute('''SELECT name FROM sqlite_master\n",
    "                                        WHERE\n",
    "                                        type = 'table'\n",
    "                                        AND\n",
    "                                        name NOT LIKE 'sqlite_%';''').fetchall()\n",
    "\n",
    "tables = [table[0] for table in tables]\n",
    "tables"
   ]
  },
  {
   "cell_type": "code",
   "execution_count": 83,
   "metadata": {
    "ExecuteTime": {
     "end_time": "2021-03-16T20:06:39.513364Z",
     "start_time": "2021-03-16T20:06:39.509790Z"
    }
   },
   "outputs": [
    {
     "data": {
      "text/markdown": [
       "✅ **Hey, you did it.  Good job.**"
      ],
      "text/plain": [
       "<IPython.core.display.Markdown object>"
      ]
     },
     "metadata": {},
     "output_type": "display_data"
    }
   ],
   "source": [
    "test.run_test(tables, 'tables')"
   ]
  },
  {
   "cell_type": "markdown",
   "metadata": {},
   "source": [
    "### TASK 2"
   ]
  },
  {
   "cell_type": "markdown",
   "metadata": {},
   "source": [
    "In the cell below, write code that will generate a dataframe of yearly revenue. The dataframe should be sorted by year. "
   ]
  },
  {
   "cell_type": "code",
   "execution_count": 84,
   "metadata": {
    "ExecuteTime": {
     "end_time": "2021-03-16T20:06:40.287771Z",
     "start_time": "2021-03-16T20:06:40.278201Z"
    }
   },
   "outputs": [
    {
     "data": {
      "text/html": [
       "<div>\n",
       "<style scoped>\n",
       "    .dataframe tbody tr th:only-of-type {\n",
       "        vertical-align: middle;\n",
       "    }\n",
       "\n",
       "    .dataframe tbody tr th {\n",
       "        vertical-align: top;\n",
       "    }\n",
       "\n",
       "    .dataframe thead th {\n",
       "        text-align: right;\n",
       "    }\n",
       "</style>\n",
       "<table border=\"1\" class=\"dataframe\">\n",
       "  <thead>\n",
       "    <tr style=\"text-align: right;\">\n",
       "      <th></th>\n",
       "      <th>year</th>\n",
       "      <th>amount</th>\n",
       "    </tr>\n",
       "  </thead>\n",
       "  <tbody>\n",
       "    <tr>\n",
       "      <th>0</th>\n",
       "      <td>2009</td>\n",
       "      <td>449.46</td>\n",
       "    </tr>\n",
       "    <tr>\n",
       "      <th>1</th>\n",
       "      <td>2010</td>\n",
       "      <td>481.45</td>\n",
       "    </tr>\n",
       "    <tr>\n",
       "      <th>2</th>\n",
       "      <td>2011</td>\n",
       "      <td>469.58</td>\n",
       "    </tr>\n",
       "    <tr>\n",
       "      <th>3</th>\n",
       "      <td>2012</td>\n",
       "      <td>477.53</td>\n",
       "    </tr>\n",
       "    <tr>\n",
       "      <th>4</th>\n",
       "      <td>2013</td>\n",
       "      <td>450.58</td>\n",
       "    </tr>\n",
       "  </tbody>\n",
       "</table>\n",
       "</div>"
      ],
      "text/plain": [
       "   year  amount\n",
       "0  2009  449.46\n",
       "1  2010  481.45\n",
       "2  2011  469.58\n",
       "3  2012  477.53\n",
       "4  2013  450.58"
      ]
     },
     "execution_count": 84,
     "metadata": {},
     "output_type": "execute_result"
    }
   ],
   "source": [
    "q = f\"\"\"select strftime('%Y', invoicedate) as \"year\", SUM(unitprice * quantity) as amount\n",
    "       FROM invoices\n",
    "       INNER JOIN invoice_items\n",
    "       USING(invoiceid)\n",
    "       GROUP BY year\n",
    "       ORDER BY year;\"\"\"\n",
    "\n",
    "pd.read_sql(q, conn)"
   ]
  },
  {
   "cell_type": "code",
   "execution_count": 85,
   "metadata": {
    "ExecuteTime": {
     "end_time": "2021-03-16T20:06:40.568143Z",
     "start_time": "2021-03-16T20:06:40.560344Z"
    }
   },
   "outputs": [
    {
     "data": {
      "text/markdown": [
       "✅ **Hey, you did it.  Good job.**"
      ],
      "text/plain": [
       "<IPython.core.display.Markdown object>"
      ]
     },
     "metadata": {},
     "output_type": "display_data"
    }
   ],
   "source": [
    "test.run_test(pd.read_sql(q, conn), 'yearly_revenue')"
   ]
  },
  {
   "cell_type": "markdown",
   "metadata": {},
   "source": [
    "### TASK 3"
   ]
  },
  {
   "cell_type": "markdown",
   "metadata": {},
   "source": [
    "In the cell below, write code to generate a dataframe that counts the numbers of artists that are found within each genre. Sort the dataframe in ascending order."
   ]
  },
  {
   "cell_type": "code",
   "execution_count": 86,
   "metadata": {
    "ExecuteTime": {
     "end_time": "2021-03-16T20:06:41.345479Z",
     "start_time": "2021-03-16T20:06:41.331637Z"
    }
   },
   "outputs": [
    {
     "data": {
      "text/html": [
       "<div>\n",
       "<style scoped>\n",
       "    .dataframe tbody tr th:only-of-type {\n",
       "        vertical-align: middle;\n",
       "    }\n",
       "\n",
       "    .dataframe tbody tr th {\n",
       "        vertical-align: top;\n",
       "    }\n",
       "\n",
       "    .dataframe thead th {\n",
       "        text-align: right;\n",
       "    }\n",
       "</style>\n",
       "<table border=\"1\" class=\"dataframe\">\n",
       "  <thead>\n",
       "    <tr style=\"text-align: right;\">\n",
       "      <th></th>\n",
       "      <th>count</th>\n",
       "      <th>name</th>\n",
       "    </tr>\n",
       "  </thead>\n",
       "  <tbody>\n",
       "    <tr>\n",
       "      <th>0</th>\n",
       "      <td>1</td>\n",
       "      <td>Bossa Nova</td>\n",
       "    </tr>\n",
       "    <tr>\n",
       "      <th>1</th>\n",
       "      <td>1</td>\n",
       "      <td>Comedy</td>\n",
       "    </tr>\n",
       "    <tr>\n",
       "      <th>2</th>\n",
       "      <td>1</td>\n",
       "      <td>Easy Listening</td>\n",
       "    </tr>\n",
       "    <tr>\n",
       "      <th>3</th>\n",
       "      <td>1</td>\n",
       "      <td>Heavy Metal</td>\n",
       "    </tr>\n",
       "    <tr>\n",
       "      <th>4</th>\n",
       "      <td>1</td>\n",
       "      <td>Opera</td>\n",
       "    </tr>\n",
       "    <tr>\n",
       "      <th>5</th>\n",
       "      <td>1</td>\n",
       "      <td>Rock And Roll</td>\n",
       "    </tr>\n",
       "    <tr>\n",
       "      <th>6</th>\n",
       "      <td>1</td>\n",
       "      <td>Science Fiction</td>\n",
       "    </tr>\n",
       "    <tr>\n",
       "      <th>7</th>\n",
       "      <td>2</td>\n",
       "      <td>Drama</td>\n",
       "    </tr>\n",
       "    <tr>\n",
       "      <th>8</th>\n",
       "      <td>2</td>\n",
       "      <td>Hip Hop/Rap</td>\n",
       "    </tr>\n",
       "    <tr>\n",
       "      <th>9</th>\n",
       "      <td>2</td>\n",
       "      <td>Sci Fi &amp; Fantasy</td>\n",
       "    </tr>\n",
       "    <tr>\n",
       "      <th>13</th>\n",
       "      <td>3</td>\n",
       "      <td>World</td>\n",
       "    </tr>\n",
       "    <tr>\n",
       "      <th>12</th>\n",
       "      <td>3</td>\n",
       "      <td>Reggae</td>\n",
       "    </tr>\n",
       "    <tr>\n",
       "      <th>10</th>\n",
       "      <td>3</td>\n",
       "      <td>Electronica/Dance</td>\n",
       "    </tr>\n",
       "    <tr>\n",
       "      <th>11</th>\n",
       "      <td>3</td>\n",
       "      <td>Pop</td>\n",
       "    </tr>\n",
       "    <tr>\n",
       "      <th>14</th>\n",
       "      <td>4</td>\n",
       "      <td>R&amp;B/Soul</td>\n",
       "    </tr>\n",
       "    <tr>\n",
       "      <th>15</th>\n",
       "      <td>4</td>\n",
       "      <td>Soundtrack</td>\n",
       "    </tr>\n",
       "    <tr>\n",
       "      <th>16</th>\n",
       "      <td>5</td>\n",
       "      <td>Alternative</td>\n",
       "    </tr>\n",
       "    <tr>\n",
       "      <th>17</th>\n",
       "      <td>5</td>\n",
       "      <td>Blues</td>\n",
       "    </tr>\n",
       "    <tr>\n",
       "      <th>18</th>\n",
       "      <td>5</td>\n",
       "      <td>TV Shows</td>\n",
       "    </tr>\n",
       "    <tr>\n",
       "      <th>19</th>\n",
       "      <td>10</td>\n",
       "      <td>Jazz</td>\n",
       "    </tr>\n",
       "    <tr>\n",
       "      <th>20</th>\n",
       "      <td>14</td>\n",
       "      <td>Metal</td>\n",
       "    </tr>\n",
       "    <tr>\n",
       "      <th>21</th>\n",
       "      <td>16</td>\n",
       "      <td>Alternative &amp; Punk</td>\n",
       "    </tr>\n",
       "    <tr>\n",
       "      <th>22</th>\n",
       "      <td>28</td>\n",
       "      <td>Latin</td>\n",
       "    </tr>\n",
       "    <tr>\n",
       "      <th>23</th>\n",
       "      <td>51</td>\n",
       "      <td>Rock</td>\n",
       "    </tr>\n",
       "    <tr>\n",
       "      <th>24</th>\n",
       "      <td>66</td>\n",
       "      <td>Classical</td>\n",
       "    </tr>\n",
       "  </tbody>\n",
       "</table>\n",
       "</div>"
      ],
      "text/plain": [
       "    count                name\n",
       "0       1          Bossa Nova\n",
       "1       1              Comedy\n",
       "2       1      Easy Listening\n",
       "3       1         Heavy Metal\n",
       "4       1               Opera\n",
       "5       1       Rock And Roll\n",
       "6       1     Science Fiction\n",
       "7       2               Drama\n",
       "8       2         Hip Hop/Rap\n",
       "9       2    Sci Fi & Fantasy\n",
       "13      3               World\n",
       "12      3              Reggae\n",
       "10      3   Electronica/Dance\n",
       "11      3                 Pop\n",
       "14      4            R&B/Soul\n",
       "15      4          Soundtrack\n",
       "16      5         Alternative\n",
       "17      5               Blues\n",
       "18      5            TV Shows\n",
       "19     10                Jazz\n",
       "20     14               Metal\n",
       "21     16  Alternative & Punk\n",
       "22     28               Latin\n",
       "23     51                Rock\n",
       "24     66           Classical"
      ]
     },
     "execution_count": 86,
     "metadata": {},
     "output_type": "execute_result"
    }
   ],
   "source": [
    "q = \"\"\"select count(distinct al.artistid) as \"count\",\n",
    "      g.name as \"name\"\n",
    "       FROM albums al\n",
    "       INNER JOIN tracks\n",
    "       USING(albumid)\n",
    "       INNER JOIN genres g\n",
    "       USING(genreid)\n",
    "       GROUP BY g.name\n",
    "       ORDER BY \"count\";\n",
    "      \"\"\"\n",
    "pd.read_sql(q, conn).sort_values('count')"
   ]
  },
  {
   "cell_type": "code",
   "execution_count": 87,
   "metadata": {
    "ExecuteTime": {
     "end_time": "2021-03-16T20:06:41.613373Z",
     "start_time": "2021-03-16T20:06:41.604431Z"
    }
   },
   "outputs": [
    {
     "data": {
      "text/markdown": [
       "✅ **Hey, you did it.  Good job.**"
      ],
      "text/plain": [
       "<IPython.core.display.Markdown object>"
      ]
     },
     "metadata": {},
     "output_type": "display_data"
    }
   ],
   "source": [
    "test.run_test(pd.read_sql(q, conn).sort_values('count'), 'artists_per_genre')"
   ]
  },
  {
   "cell_type": "markdown",
   "metadata": {},
   "source": [
    "# OOP"
   ]
  },
  {
   "cell_type": "markdown",
   "metadata": {},
   "source": [
    "Let's begin by building a quick `Example` class, and break down some of the elements."
   ]
  },
  {
   "cell_type": "code",
   "execution_count": 88,
   "metadata": {
    "ExecuteTime": {
     "end_time": "2021-03-16T20:06:42.468046Z",
     "start_time": "2021-03-16T20:06:42.465276Z"
    }
   },
   "outputs": [],
   "source": [
    "class Example:\n",
    "    attribute = \"I'm an attribute!\"\n",
    "    \n",
    "    def method(self):\n",
    "        return \"I'm a method!\""
   ]
  },
  {
   "cell_type": "code",
   "execution_count": 89,
   "metadata": {
    "ExecuteTime": {
     "end_time": "2021-03-16T20:06:42.774527Z",
     "start_time": "2021-03-16T20:06:42.771281Z"
    }
   },
   "outputs": [
    {
     "data": {
      "text/plain": [
       "\"I'm an attribute!\""
      ]
     },
     "execution_count": 89,
     "metadata": {},
     "output_type": "execute_result"
    }
   ],
   "source": [
    "Example.attribute"
   ]
  },
  {
   "cell_type": "code",
   "execution_count": 90,
   "metadata": {
    "ExecuteTime": {
     "end_time": "2021-03-16T20:06:43.048214Z",
     "start_time": "2021-03-16T20:06:43.041531Z"
    }
   },
   "outputs": [
    {
     "ename": "TypeError",
     "evalue": "method() missing 1 required positional argument: 'self'",
     "output_type": "error",
     "traceback": [
      "\u001b[0;31m---------------------------------------------------------------------------\u001b[0m",
      "\u001b[0;31mTypeError\u001b[0m                                 Traceback (most recent call last)",
      "\u001b[0;32m<ipython-input-90-77f42a923c40>\u001b[0m in \u001b[0;36m<module>\u001b[0;34m\u001b[0m\n\u001b[0;32m----> 1\u001b[0;31m \u001b[0mExample\u001b[0m\u001b[0;34m.\u001b[0m\u001b[0mmethod\u001b[0m\u001b[0;34m(\u001b[0m\u001b[0;34m)\u001b[0m\u001b[0;34m\u001b[0m\u001b[0;34m\u001b[0m\u001b[0m\n\u001b[0m",
      "\u001b[0;31mTypeError\u001b[0m: method() missing 1 required positional argument: 'self'"
     ]
    }
   ],
   "source": [
    "Example.method()"
   ]
  },
  {
   "cell_type": "code",
   "execution_count": 91,
   "metadata": {
    "ExecuteTime": {
     "end_time": "2021-03-16T20:06:43.342132Z",
     "start_time": "2021-03-16T20:06:43.338815Z"
    }
   },
   "outputs": [
    {
     "data": {
      "text/plain": [
       "\"I'm a method!\""
      ]
     },
     "execution_count": 91,
     "metadata": {},
     "output_type": "execute_result"
    }
   ],
   "source": [
    "Example.method(Example)"
   ]
  },
  {
   "cell_type": "markdown",
   "metadata": {},
   "source": [
    "### Adding an `__init__` method\n",
    "\n",
    "> [A good thread on the init method](https://stackoverflow.com/questions/625083/what-init-and-self-do-in-python)\n",
    "\n",
    "The init method activates when we create an *instance* of the class. "
   ]
  },
  {
   "cell_type": "code",
   "execution_count": 92,
   "metadata": {
    "ExecuteTime": {
     "end_time": "2021-03-16T20:06:43.931092Z",
     "start_time": "2021-03-16T20:06:43.927613Z"
    }
   },
   "outputs": [],
   "source": [
    "class Example:\n",
    "    attribute = \"I'm an attribute!\"\n",
    "    \n",
    "    # Adding an init method\n",
    "    def __init__(self): \n",
    "        self.instance_attribute = \"I'm an instance attribute!\"\n",
    "        # You'll notice that self is used to create this attribute. \n",
    "        # Whenever we create an instance attribute, we\n",
    "        # have to use self.\n",
    "    \n",
    "    def method(self):\n",
    "        return \"I'm a method!\""
   ]
  },
  {
   "cell_type": "markdown",
   "metadata": {},
   "source": [
    "**Creating an instance**"
   ]
  },
  {
   "cell_type": "code",
   "execution_count": 93,
   "metadata": {
    "ExecuteTime": {
     "end_time": "2021-03-16T20:06:44.513029Z",
     "start_time": "2021-03-16T20:06:44.510319Z"
    }
   },
   "outputs": [],
   "source": [
    "instance = Example()"
   ]
  },
  {
   "cell_type": "code",
   "execution_count": 94,
   "metadata": {
    "ExecuteTime": {
     "end_time": "2021-03-16T20:06:44.818659Z",
     "start_time": "2021-03-16T20:06:44.815322Z"
    }
   },
   "outputs": [
    {
     "data": {
      "text/plain": [
       "\"I'm an instance attribute!\""
      ]
     },
     "execution_count": 94,
     "metadata": {},
     "output_type": "execute_result"
    }
   ],
   "source": [
    "instance.instance_attribute"
   ]
  },
  {
   "cell_type": "markdown",
   "metadata": {},
   "source": [
    "**The init method is especially helpful when we need to pass object to our class**"
   ]
  },
  {
   "cell_type": "code",
   "execution_count": 95,
   "metadata": {
    "ExecuteTime": {
     "end_time": "2021-03-16T20:06:45.405451Z",
     "start_time": "2021-03-16T20:06:45.401787Z"
    }
   },
   "outputs": [],
   "source": [
    "class Example:\n",
    "    attribute = \"I'm an attribute!\"\n",
    "    \n",
    "    # We have updated the __init__ method\n",
    "    # so it also receives a number\n",
    "    def __init__(self, number):\n",
    "        self.instance_attribute = \"I'm an instance attribute!\"\n",
    "        # We then create an attribute that\n",
    "        # adds three to the received number\n",
    "        self.add_three = number + 3\n",
    "    \n",
    "    def method(self):\n",
    "        return \"I'm a method!\""
   ]
  },
  {
   "cell_type": "markdown",
   "metadata": {},
   "source": [
    "**Now if try to create an instance of the class like we did before...**"
   ]
  },
  {
   "cell_type": "code",
   "execution_count": 96,
   "metadata": {
    "ExecuteTime": {
     "end_time": "2021-03-16T20:06:46.016897Z",
     "start_time": "2021-03-16T20:06:46.009338Z"
    }
   },
   "outputs": [
    {
     "ename": "TypeError",
     "evalue": "__init__() missing 1 required positional argument: 'number'",
     "output_type": "error",
     "traceback": [
      "\u001b[0;31m---------------------------------------------------------------------------\u001b[0m",
      "\u001b[0;31mTypeError\u001b[0m                                 Traceback (most recent call last)",
      "\u001b[0;32m<ipython-input-96-a4347e8efb22>\u001b[0m in \u001b[0;36m<module>\u001b[0;34m\u001b[0m\n\u001b[0;32m----> 1\u001b[0;31m \u001b[0minstance\u001b[0m \u001b[0;34m=\u001b[0m \u001b[0mExample\u001b[0m\u001b[0;34m(\u001b[0m\u001b[0;34m)\u001b[0m\u001b[0;34m\u001b[0m\u001b[0;34m\u001b[0m\u001b[0m\n\u001b[0m",
      "\u001b[0;31mTypeError\u001b[0m: __init__() missing 1 required positional argument: 'number'"
     ]
    }
   ],
   "source": [
    "instance = Example()"
   ]
  },
  {
   "cell_type": "markdown",
   "metadata": {},
   "source": [
    "**...we receive an error message because the init method did not receive a required argument.**\n",
    "\n",
    "To provide arguments to the init method, we pass the argument into the parentheses used to call the class. "
   ]
  },
  {
   "cell_type": "code",
   "execution_count": 97,
   "metadata": {
    "ExecuteTime": {
     "end_time": "2021-03-16T20:06:46.617944Z",
     "start_time": "2021-03-16T20:06:46.615493Z"
    }
   },
   "outputs": [],
   "source": [
    "instance = Example(3)"
   ]
  },
  {
   "cell_type": "code",
   "execution_count": 98,
   "metadata": {
    "ExecuteTime": {
     "end_time": "2021-03-16T20:06:46.951104Z",
     "start_time": "2021-03-16T20:06:46.947780Z"
    }
   },
   "outputs": [
    {
     "data": {
      "text/plain": [
       "6"
      ]
     },
     "execution_count": 98,
     "metadata": {},
     "output_type": "execute_result"
    }
   ],
   "source": [
    "instance.add_three"
   ]
  },
  {
   "cell_type": "markdown",
   "metadata": {},
   "source": [
    "**Using an attribute inside a method**\n",
    "\n",
    "It is common when writing code to have global variables that must be passed into a function, or used inside a function. \n",
    "\n",
    "This can be a bit annoying since the main reason we create functions is so we do not have to keep typing the same things over and over again. \n",
    "\n",
    "Classes can be used to solve this problem!"
   ]
  },
  {
   "cell_type": "code",
   "execution_count": 99,
   "metadata": {
    "ExecuteTime": {
     "end_time": "2021-03-16T20:06:47.560562Z",
     "start_time": "2021-03-16T20:06:47.556526Z"
    }
   },
   "outputs": [],
   "source": [
    "class Greeting:\n",
    "    \n",
    "    def __init__(self, greeting=None):\n",
    "        if not greeting:\n",
    "            greeting = \"It's nice to meet you!\"\n",
    "        self.greeting = greeting\n",
    "        \n",
    "    def message(self, name):\n",
    "        return f\"Hi, {name}!\" + ' ' + self.greeting"
   ]
  },
  {
   "cell_type": "code",
   "execution_count": 100,
   "metadata": {
    "ExecuteTime": {
     "end_time": "2021-03-16T20:06:47.851681Z",
     "start_time": "2021-03-16T20:06:47.847921Z"
    }
   },
   "outputs": [
    {
     "data": {
      "text/plain": [
       "'Hi, Joel! Can you please do the dishes?'"
      ]
     },
     "execution_count": 100,
     "metadata": {},
     "output_type": "execute_result"
    }
   ],
   "source": [
    "greeting, name = (\"Can you please do the dishes?\", 'Joel')\n",
    "\n",
    "whats_up = Greeting(greeting)\n",
    "\n",
    "whats_up.message(name)"
   ]
  },
  {
   "cell_type": "markdown",
   "metadata": {},
   "source": [
    "# Code Assignment\n",
    "\n",
    "Let's take the sql queries we wrote above and create a `Queries` class. \n",
    "\n",
    "This class should have attributes for the connection to the database, and individual methods for each query. \n",
    "\n",
    "The output for each query method should look exactly like the outputs for our sql queries aboves."
   ]
  },
  {
   "cell_type": "code",
   "execution_count": 101,
   "metadata": {
    "ExecuteTime": {
     "end_time": "2021-03-16T20:06:48.484358Z",
     "start_time": "2021-03-16T20:06:48.478389Z"
    }
   },
   "outputs": [],
   "source": [
    "class Queries:\n",
    "    def __init__(self, database_path):\n",
    "        self.conn = sqlite3.connect(database_path)\n",
    "        self.cursor = self.conn.cursor()\n",
    "\n",
    "#=============== HELPER FUNCTIONS ===============\n",
    "\n",
    "    def query(self, q):\n",
    "        return pd.read_sql(q, self.conn)\n",
    "    \n",
    "#=================== QUERIES ====================\n",
    " \n",
    "    def table_names(self):\n",
    "        q = '''SELECT name FROM sqlite_master\n",
    "                WHERE\n",
    "                type = 'table'\n",
    "                AND\n",
    "                name NOT LIKE 'sqlite_%';'''\n",
    "        tables = self.cursor.execute(q).fetchall()\n",
    "        return  [x[0] for x in tables]\n",
    "        \n",
    "    \n",
    "    def artists_per_genre(self):\n",
    "        q = \"\"\"select count(distinct al.artistid) as \"count\",\n",
    "              g.name as \"name\"\n",
    "               FROM albums al\n",
    "               INNER JOIN tracks\n",
    "               USING(albumid)\n",
    "               INNER JOIN genres g\n",
    "               USING(genreid)\n",
    "               GROUP BY g.name\n",
    "              \"\"\"\n",
    "        return self.query(q)\n",
    "        \n",
    "    def yearly_revenue(self):\n",
    "        q = f\"\"\"select strftime('%Y', invoicedate) as \"year\", SUM(unitprice * quantity) as amount\n",
    "               FROM invoices\n",
    "               INNER JOIN invoice_items\n",
    "               USING(invoiceid)\n",
    "               GROUP BY year\n",
    "               ORDER BY year;\"\"\"\n",
    "\n",
    "        return self.query(q)\n"
   ]
  },
  {
   "cell_type": "markdown",
   "metadata": {},
   "source": [
    "**Let's test our work**"
   ]
  },
  {
   "cell_type": "code",
   "execution_count": 102,
   "metadata": {
    "ExecuteTime": {
     "end_time": "2021-03-16T20:06:49.114633Z",
     "start_time": "2021-03-16T20:06:49.096968Z"
    }
   },
   "outputs": [
    {
     "data": {
      "text/markdown": [
       "✅ **Hey, you did it.  Good job.**"
      ],
      "text/plain": [
       "<IPython.core.display.Markdown object>"
      ]
     },
     "metadata": {},
     "output_type": "display_data"
    },
    {
     "data": {
      "text/markdown": [
       "✅ **Hey, you did it.  Good job.**"
      ],
      "text/plain": [
       "<IPython.core.display.Markdown object>"
      ]
     },
     "metadata": {},
     "output_type": "display_data"
    },
    {
     "data": {
      "text/markdown": [
       "✅ **Hey, you did it.  Good job.**"
      ],
      "text/plain": [
       "<IPython.core.display.Markdown object>"
      ]
     },
     "metadata": {},
     "output_type": "display_data"
    }
   ],
   "source": [
    "queries = Queries(path)\n",
    "test.run_test(queries.table_names(), 'class_table_names')\n",
    "test.run_test(queries.artists_per_genre(), 'class_artists')\n",
    "test.run_test(queries.yearly_revenue(), 'class_revenue')"
   ]
  },
  {
   "cell_type": "markdown",
   "metadata": {},
   "source": [
    "### Inheritance \n",
    "\n",
    "Classes can inherit code from other classes! This can be a bit confusing at first, but this is where the magic of OOP programming really kicks in. "
   ]
  },
  {
   "cell_type": "code",
   "execution_count": 103,
   "metadata": {
    "ExecuteTime": {
     "end_time": "2021-03-16T20:06:49.773497Z",
     "start_time": "2021-03-16T20:06:49.769432Z"
    }
   },
   "outputs": [],
   "source": [
    "class Arrays:\n",
    "    def __init__(self):\n",
    "        self.x = [1,2,3]\n",
    "        self.y = [3,2,1]\n",
    "       \n",
    "# This is where the inheritance takes place\n",
    "class Visualize(Arrays):\n",
    "    def line(self):\n",
    "        plt.plot(self.x, self.y)"
   ]
  },
  {
   "cell_type": "code",
   "execution_count": 104,
   "metadata": {
    "ExecuteTime": {
     "end_time": "2021-03-16T20:06:50.237659Z",
     "start_time": "2021-03-16T20:06:50.091033Z"
    }
   },
   "outputs": [
    {
     "data": {
      "image/png": "[encoded data removed]",
      "text/plain": [
       "<Figure size 432x288 with 1 Axes>"
      ]
     },
     "metadata": {
      "needs_background": "light"
     },
     "output_type": "display_data"
    }
   ],
   "source": [
    "viz = Visualize()\n",
    "viz.line()"
   ]
  },
  {
   "cell_type": "markdown",
   "metadata": {},
   "source": [
    "We can also make classes that serve as a subclass"
   ]
  },
  {
   "cell_type": "code",
   "execution_count": 105,
   "metadata": {
    "ExecuteTime": {
     "end_time": "2021-03-16T20:06:50.762957Z",
     "start_time": "2021-03-16T20:06:50.758123Z"
    }
   },
   "outputs": [],
   "source": [
    "class User:\n",
    "    def __init__(self, username, secret_key):\n",
    "        User.key = secret_key\n",
    "        User.name = username\n",
    "        self.sub = Authorize()\n",
    "    \n",
    "class Authorize:\n",
    "    def __init__(self):\n",
    "        self.key = User.key\n",
    "        self.user = User.name\n",
    "        \n",
    "    def check_password(self):\n",
    "        if self.user == 'Joel' and self.key == 'secret_key':\n",
    "            print('Password correct!')\n",
    "        else:\n",
    "            print('Incorrect Password')"
   ]
  },
  {
   "cell_type": "code",
   "execution_count": 106,
   "metadata": {
    "ExecuteTime": {
     "end_time": "2021-03-16T20:06:51.084759Z",
     "start_time": "2021-03-16T20:06:51.081619Z"
    }
   },
   "outputs": [
    {
     "name": "stdout",
     "output_type": "stream",
     "text": [
      "Password correct!\n"
     ]
    }
   ],
   "source": [
    "user = User('Joel', 'secret_key')\n",
    "user.sub.check_password()"
   ]
  },
  {
   "cell_type": "markdown",
   "metadata": {},
   "source": [
    "### Calling the parent class init"
   ]
  },
  {
   "cell_type": "code",
   "execution_count": 107,
   "metadata": {
    "ExecuteTime": {
     "end_time": "2021-03-16T20:06:51.744223Z",
     "start_time": "2021-03-16T20:06:51.740560Z"
    }
   },
   "outputs": [],
   "source": [
    "class One:\n",
    "    def __init__(self, arg):\n",
    "        self.arg = arg\n",
    "        \n",
    "class Two(One):\n",
    "    def __init__(self, other_arg):\n",
    "        self.other_arg = other_arg"
   ]
  },
  {
   "cell_type": "code",
   "execution_count": 108,
   "metadata": {
    "ExecuteTime": {
     "end_time": "2021-03-16T20:06:52.131907Z",
     "start_time": "2021-03-16T20:06:52.124022Z"
    }
   },
   "outputs": [
    {
     "name": "stdout",
     "output_type": "stream",
     "text": [
      "other_arg\n"
     ]
    },
    {
     "ename": "AttributeError",
     "evalue": "'Two' object has no attribute 'arg'",
     "output_type": "error",
     "traceback": [
      "\u001b[0;31m---------------------------------------------------------------------------\u001b[0m",
      "\u001b[0;31mAttributeError\u001b[0m                            Traceback (most recent call last)",
      "\u001b[0;32m<ipython-input-108-e524243635ba>\u001b[0m in \u001b[0;36m<module>\u001b[0;34m\u001b[0m\n\u001b[1;32m      2\u001b[0m \u001b[0;34m\u001b[0m\u001b[0m\n\u001b[1;32m      3\u001b[0m \u001b[0mprint\u001b[0m\u001b[0;34m(\u001b[0m\u001b[0mtwo\u001b[0m\u001b[0;34m.\u001b[0m\u001b[0mother_arg\u001b[0m\u001b[0;34m)\u001b[0m\u001b[0;34m\u001b[0m\u001b[0;34m\u001b[0m\u001b[0m\n\u001b[0;32m----> 4\u001b[0;31m \u001b[0mprint\u001b[0m\u001b[0;34m(\u001b[0m\u001b[0mtwo\u001b[0m\u001b[0;34m.\u001b[0m\u001b[0marg\u001b[0m\u001b[0;34m)\u001b[0m\u001b[0;34m\u001b[0m\u001b[0;34m\u001b[0m\u001b[0m\n\u001b[0m",
      "\u001b[0;31mAttributeError\u001b[0m: 'Two' object has no attribute 'arg'"
     ]
    }
   ],
   "source": [
    "two = Two('other_arg')\n",
    "\n",
    "print(two.other_arg)\n",
    "print(two.arg)"
   ]
  },
  {
   "cell_type": "code",
   "execution_count": 109,
   "metadata": {
    "ExecuteTime": {
     "end_time": "2021-03-16T20:06:52.507397Z",
     "start_time": "2021-03-16T20:06:52.503826Z"
    }
   },
   "outputs": [],
   "source": [
    "class One:\n",
    "    def __init__(self, arg):\n",
    "        self.arg = arg\n",
    "        \n",
    "class Two(One):\n",
    "    def __init__(self, arg, other_arg):\n",
    "        One.__init__(self, arg)\n",
    "        self.other_arg = other_arg"
   ]
  },
  {
   "cell_type": "code",
   "execution_count": 110,
   "metadata": {
    "ExecuteTime": {
     "end_time": "2021-03-16T20:06:52.933895Z",
     "start_time": "2021-03-16T20:06:52.930515Z"
    }
   },
   "outputs": [
    {
     "name": "stdout",
     "output_type": "stream",
     "text": [
      "other_arg\n",
      "arg\n"
     ]
    }
   ],
   "source": [
    "two = Two('arg', 'other_arg')\n",
    "\n",
    "print(two.other_arg)\n",
    "print(two.arg)"
   ]
  },
  {
   "cell_type": "markdown",
   "metadata": {},
   "source": [
    "### Code Assignment"
   ]
  },
  {
   "cell_type": "markdown",
   "metadata": {},
   "source": [
    "Let's create three classes\n",
    "\n",
    "1. Chinook\n",
    "    - This class should create attributes for the connection to the chinook database\n",
    "2. Queries\n",
    "    - This class should look a lot like out Queries class above, but it should receive the connection objects from the Chinook class. \n",
    "3. Visualize\n",
    "    - This class should inherit the sql query methods from the queries class and then visualize the artists per genre as a bar char and the yearly revenue as a line plot."
   ]
  },
  {
   "cell_type": "code",
   "execution_count": 111,
   "metadata": {
    "ExecuteTime": {
     "end_time": "2021-03-16T20:06:54.113711Z",
     "start_time": "2021-03-16T20:06:54.110512Z"
    }
   },
   "outputs": [],
   "source": [
    "\n",
    "class Chinook:\n",
    "    pass\n",
    "    \n",
    "\n",
    "class Queries:\n",
    "    pass\n",
    "\n",
    "\n",
    "class Visualization:\n",
    "    pass"
   ]
  },
  {
   "cell_type": "code",
   "execution_count": 112,
   "metadata": {
    "ExecuteTime": {
     "end_time": "2021-03-16T20:06:54.512551Z",
     "start_time": "2021-03-16T20:06:54.504030Z"
    }
   },
   "outputs": [],
   "source": [
    "# SOLUTION 1\n",
    "\n",
    "class Chinook:\n",
    "    def __init__(self, database_path):\n",
    "        self.conn = sqlite3.connect(database_path)\n",
    "        self.cursor = self.conn.cursor()\n",
    "    \n",
    "\n",
    "class Queries(Chinook):\n",
    "    def __init__(self, database_path):\n",
    "        Chinook.__init__(self, database_path)\n",
    "\n",
    "#=============== HELPER FUNCTIONS ===============\n",
    "\n",
    "    def query(self, q):\n",
    "        return pd.read_sql(q, self.conn)\n",
    "    \n",
    "#=================== QUERIES ====================\n",
    " \n",
    "    def _table_names(self):\n",
    "        q = '''SELECT name FROM sqlite_master\n",
    "                WHERE\n",
    "                type = 'table'\n",
    "                AND\n",
    "                name NOT LIKE 'sqlite_%';'''\n",
    "        tables = self.cursor.execute(q).fetchall()\n",
    "        return  [x[0] for x in tables]\n",
    "        \n",
    "    \n",
    "    def _artists_per_genre(self):\n",
    "        q = \"\"\"select count(distinct al.artistid) as \"count\",\n",
    "              g.name as \"name\"\n",
    "               FROM albums al\n",
    "               INNER JOIN tracks\n",
    "               USING(albumid)\n",
    "               INNER JOIN genres g\n",
    "               USING(genreid)\n",
    "               GROUP BY g.name\n",
    "              \"\"\"\n",
    "        return self.query(q)\n",
    "        \n",
    "    def _yearly_revenue(self):\n",
    "        q = f\"\"\"select strftime('%Y', invoicedate) as \"year\", SUM(unitprice * quantity) as amount\n",
    "               FROM invoices\n",
    "               INNER JOIN invoice_items\n",
    "               USING(invoiceid)\n",
    "               GROUP BY year\n",
    "               ORDER BY year;\"\"\"\n",
    "\n",
    "        return self.query(q)\n",
    "\n",
    "\n",
    "class Visualization(Queries):\n",
    "    def __init__(self, connection_path):\n",
    "        Queries.__init__(self, connection_path) \n",
    "    \n",
    "    def artists_per_genre(self):\n",
    "        data = self._artists_per_genre()\n",
    "        data.set_index('name').sort_values('count').plot(kind='bar')\n",
    "              \n",
    "    def yearly_revenue(self):\n",
    "        data = self._yearly_revenue()\n",
    "        data.set_index('year', inplace=True)\n",
    "        data.plot(legend=False)"
   ]
  },
  {
   "cell_type": "code",
   "execution_count": 113,
   "metadata": {
    "ExecuteTime": {
     "end_time": "2021-03-16T20:06:54.893425Z",
     "start_time": "2021-03-16T20:06:54.885275Z"
    }
   },
   "outputs": [],
   "source": [
    "# SOLUTION 2\n",
    "class Chinook:\n",
    "    def __init__(self, database_path):\n",
    "        Chinook.conn = sqlite3.connect(database_path)\n",
    "        Chinook.cursor = self.conn.cursor()\n",
    "        self.queries = Queries()\n",
    "    \n",
    "\n",
    "class Queries:\n",
    "    def __init__(self):\n",
    "        self._conn = Chinook.conn\n",
    "        self._cursor = Chinook.cursor\n",
    "\n",
    "#=============== HELPER FUNCTIONS ===============\n",
    "\n",
    "    def query(self, q):\n",
    "        return pd.read_sql(q, self._conn)\n",
    "    \n",
    "#=================== QUERIES ====================\n",
    "        \n",
    "    \n",
    "    def artists_per_genre(self):\n",
    "        q = \"\"\"select count(distinct al.artistid) as \"count\",\n",
    "              g.name as \"name\"\n",
    "               FROM albums al\n",
    "               INNER JOIN tracks\n",
    "               USING(albumid)\n",
    "               INNER JOIN genres g\n",
    "               USING(genreid)\n",
    "               GROUP BY g.name\n",
    "              \"\"\"\n",
    "        return self.query(q)\n",
    "        \n",
    "    def yearly_revenue(self):\n",
    "        q = f\"\"\"select strftime('%Y', invoicedate) as \"year\", SUM(unitprice * quantity) as amount\n",
    "               FROM invoices\n",
    "               INNER JOIN invoice_items\n",
    "               USING(invoiceid)\n",
    "               GROUP BY year\n",
    "               ORDER BY year;\"\"\"\n",
    "\n",
    "        return self.query(q)\n",
    "\n",
    "\n",
    "class Visualization(Chinook):\n",
    "    def __init__(self, connection_path):\n",
    "        Chinook.__init__(self, connection_path) \n",
    "    \n",
    "    def artists_per_genre(self):\n",
    "        data = self.queries.artists_per_genre()\n",
    "        data.set_index('name').sort_values('count').plot(kind='bar')\n",
    "              \n",
    "    def yearly_revenue(self):\n",
    "        data = self.queries.yearly_revenue()\n",
    "        data.set_index('year', inplace=True)\n",
    "        data.plot(legend=False)"
   ]
  },
  {
   "cell_type": "markdown",
   "metadata": {},
   "source": [
    "## Magic Methods\n",
    "\n",
    "[Magic Methods](https://www.tutorialsteacher.com/python/magic-methods-in-python) begin and end with double underscores. `__init__` is an example of magic method. Let's take a look as a couple more. "
   ]
  },
  {
   "cell_type": "code",
   "execution_count": 114,
   "metadata": {
    "ExecuteTime": {
     "end_time": "2021-03-16T20:06:55.682307Z",
     "start_time": "2021-03-16T20:06:55.675573Z"
    }
   },
   "outputs": [],
   "source": [
    "class Magic:\n",
    "    def __init__(self, database_path):\n",
    "        self.conn = sqlite3.connect(database_path)\n",
    "        self.cursor = self.conn.cursor()\n",
    "        self.table_names = self.table_names()\n",
    "        self.tables = {}\n",
    "     \n",
    "        for table in self.table_names:\n",
    "            entire_table = pd.read_sql('''SELECT * FROM {}'''.format(table), self.conn)\n",
    "            self.tables[table] = entire_table\n",
    "\n",
    "            \n",
    "#============ Magic Methods ============\n",
    "\n",
    "    def __getitem__(self, key):\n",
    "        return self.tables[key]\n",
    "    \n",
    "    def __repr__(self):\n",
    "        return 'This class makes a connection to the Chinook Database!'\n",
    "    \n",
    "    def __mul__(self, other):\n",
    "        return 'Instead of multiplication, we received a string!'\n",
    "    \n",
    "#============ Query to get table names ============\n",
    "    \n",
    "    def table_names(self):\n",
    "        q = '''SELECT name FROM sqlite_master\n",
    "                WHERE\n",
    "                type = 'table'\n",
    "                AND\n",
    "                name NOT LIKE 'sqlite_%';'''\n",
    "        tables = self.cursor.execute(q).fetchall()\n",
    "        return  [x[0] for x in tables]\n"
   ]
  },
  {
   "cell_type": "code",
   "execution_count": 115,
   "metadata": {
    "ExecuteTime": {
     "end_time": "2021-03-16T20:06:56.117816Z",
     "start_time": "2021-03-16T20:06:56.065422Z"
    }
   },
   "outputs": [],
   "source": [
    "magic = Magic(path)"
   ]
  },
  {
   "cell_type": "code",
   "execution_count": 116,
   "metadata": {
    "ExecuteTime": {
     "end_time": "2021-03-16T20:06:56.428346Z",
     "start_time": "2021-03-16T20:06:56.419736Z"
    }
   },
   "outputs": [
    {
     "data": {
      "text/html": [
       "<div>\n",
       "<style scoped>\n",
       "    .dataframe tbody tr th:only-of-type {\n",
       "        vertical-align: middle;\n",
       "    }\n",
       "\n",
       "    .dataframe tbody tr th {\n",
       "        vertical-align: top;\n",
       "    }\n",
       "\n",
       "    .dataframe thead th {\n",
       "        text-align: right;\n",
       "    }\n",
       "</style>\n",
       "<table border=\"1\" class=\"dataframe\">\n",
       "  <thead>\n",
       "    <tr style=\"text-align: right;\">\n",
       "      <th></th>\n",
       "      <th>ArtistId</th>\n",
       "      <th>Name</th>\n",
       "    </tr>\n",
       "  </thead>\n",
       "  <tbody>\n",
       "    <tr>\n",
       "      <th>0</th>\n",
       "      <td>1</td>\n",
       "      <td>AC/DC</td>\n",
       "    </tr>\n",
       "    <tr>\n",
       "      <th>1</th>\n",
       "      <td>2</td>\n",
       "      <td>Accept</td>\n",
       "    </tr>\n",
       "    <tr>\n",
       "      <th>2</th>\n",
       "      <td>3</td>\n",
       "      <td>Aerosmith</td>\n",
       "    </tr>\n",
       "    <tr>\n",
       "      <th>3</th>\n",
       "      <td>4</td>\n",
       "      <td>Alanis Morissette</td>\n",
       "    </tr>\n",
       "    <tr>\n",
       "      <th>4</th>\n",
       "      <td>5</td>\n",
       "      <td>Alice In Chains</td>\n",
       "    </tr>\n",
       "    <tr>\n",
       "      <th>...</th>\n",
       "      <td>...</td>\n",
       "      <td>...</td>\n",
       "    </tr>\n",
       "    <tr>\n",
       "      <th>270</th>\n",
       "      <td>271</td>\n",
       "      <td>Mela Tenenbaum, Pro Musica Prague &amp; Richard Kapp</td>\n",
       "    </tr>\n",
       "    <tr>\n",
       "      <th>271</th>\n",
       "      <td>272</td>\n",
       "      <td>Emerson String Quartet</td>\n",
       "    </tr>\n",
       "    <tr>\n",
       "      <th>272</th>\n",
       "      <td>273</td>\n",
       "      <td>C. Monteverdi, Nigel Rogers - Chiaroscuro; Lon...</td>\n",
       "    </tr>\n",
       "    <tr>\n",
       "      <th>273</th>\n",
       "      <td>274</td>\n",
       "      <td>Nash Ensemble</td>\n",
       "    </tr>\n",
       "    <tr>\n",
       "      <th>274</th>\n",
       "      <td>275</td>\n",
       "      <td>Philip Glass Ensemble</td>\n",
       "    </tr>\n",
       "  </tbody>\n",
       "</table>\n",
       "<p>275 rows × 2 columns</p>\n",
       "</div>"
      ],
      "text/plain": [
       "     ArtistId                                               Name\n",
       "0           1                                              AC/DC\n",
       "1           2                                             Accept\n",
       "2           3                                          Aerosmith\n",
       "3           4                                  Alanis Morissette\n",
       "4           5                                    Alice In Chains\n",
       "..        ...                                                ...\n",
       "270       271   Mela Tenenbaum, Pro Musica Prague & Richard Kapp\n",
       "271       272                             Emerson String Quartet\n",
       "272       273  C. Monteverdi, Nigel Rogers - Chiaroscuro; Lon...\n",
       "273       274                                      Nash Ensemble\n",
       "274       275                              Philip Glass Ensemble\n",
       "\n",
       "[275 rows x 2 columns]"
      ]
     },
     "execution_count": 116,
     "metadata": {},
     "output_type": "execute_result"
    }
   ],
   "source": [
    "magic['artists']"
   ]
  },
  {
   "cell_type": "code",
   "execution_count": 117,
   "metadata": {
    "ExecuteTime": {
     "end_time": "2021-03-16T20:06:56.811792Z",
     "start_time": "2021-03-16T20:06:56.808615Z"
    }
   },
   "outputs": [
    {
     "data": {
      "text/plain": [
       "This class makes a connection to the Chinook Database!"
      ]
     },
     "execution_count": 117,
     "metadata": {},
     "output_type": "execute_result"
    }
   ],
   "source": [
    "magic"
   ]
  },
  {
   "cell_type": "code",
   "execution_count": 118,
   "metadata": {
    "ExecuteTime": {
     "end_time": "2021-03-16T20:06:57.257063Z",
     "start_time": "2021-03-16T20:06:57.253740Z"
    }
   },
   "outputs": [
    {
     "data": {
      "text/plain": [
       "'Instead of multiplication, we received a string!'"
      ]
     },
     "execution_count": 118,
     "metadata": {},
     "output_type": "execute_result"
    }
   ],
   "source": [
    "magic * 3"
   ]
  }
 ],
 "metadata": {
  "kernelspec": {
   "display_name": "Python 3",
   "language": "python",
   "name": "python3"
  },
  "language_info": {
   "codemirror_mode": {
    "name": "ipython",
    "version": 3
   },
   "file_extension": ".py",
   "mimetype": "text/x-python",
   "name": "python",
   "nbconvert_exporter": "python",
   "pygments_lexer": "ipython3",
   "version": "3.7.4"
  },
  "toc": {
   "base_numbering": 1,
   "nav_menu": {},
   "number_sections": false,
   "sideBar": true,
   "skip_h1_title": false,
   "title_cell": "Table of Contents",
   "title_sidebar": "Contents",
   "toc_cell": false,
   "toc_position": {},
   "toc_section_display": true,
   "toc_window_display": false
  }
 },
 "nbformat": 4,
 "nbformat_minor": 4
}
